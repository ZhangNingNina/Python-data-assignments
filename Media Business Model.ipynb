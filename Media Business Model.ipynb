{
 "cells": [
  {
   "cell_type": "code",
   "execution_count": 7,
   "metadata": {},
   "outputs": [
    {
     "name": "stdout",
     "output_type": "stream",
     "text": [
      "Please input the number of visitors:80000\n",
      "80000\n",
      "Net income: 34000.0\n"
     ]
    }
   ],
   "source": [
    "Content_cost = 70000\n",
    "Labor_cost = 30000\n",
    "Server_cost = 50000\n",
    "Subscription_fee = 15\n",
    "Subscripe_ratio = 0.1\n",
    "Ad_revenue = 0.8\n",
    "visitor = int(input(\"Please input the number of visitors:\"))\n",
    "print(visitor)\n",
    "Total_income = Ad_revenue*visitor + Subscription_fee*Subscripe_ratio*visitor\n",
    "Total_cost = Content_cost + Labor_cost + Server_cost\n",
    "Net_income = Total_income - Total_cost\n",
    "print(\"Net income:\", Net_income)"
   ]
  },
  {
   "cell_type": "code",
   "execution_count": 9,
   "metadata": {},
   "outputs": [
    {
     "ename": "NameError",
     "evalue": "name 'raw_input' is not defined",
     "output_type": "error",
     "traceback": [
      "\u001b[0;31m---------------------------------------------------------------------------\u001b[0m",
      "\u001b[0;31mNameError\u001b[0m                                 Traceback (most recent call last)",
      "\u001b[0;32m<ipython-input-9-84efaf361cfa>\u001b[0m in \u001b[0;36m<module>\u001b[0;34m()\u001b[0m\n\u001b[1;32m      5\u001b[0m \u001b[0mSubscripe_ratio\u001b[0m \u001b[0;34m=\u001b[0m \u001b[0;36m0.1\u001b[0m\u001b[0;34m\u001b[0m\u001b[0m\n\u001b[1;32m      6\u001b[0m \u001b[0mAd_revenue\u001b[0m \u001b[0;34m=\u001b[0m \u001b[0;36m0.8\u001b[0m\u001b[0;34m\u001b[0m\u001b[0m\n\u001b[0;32m----> 7\u001b[0;31m \u001b[0mvisitor\u001b[0m \u001b[0;34m=\u001b[0m \u001b[0mraw_input\u001b[0m\u001b[0;34m(\u001b[0m\u001b[0;34m\"Please input the number of visitors:\"\u001b[0m\u001b[0;34m)\u001b[0m\u001b[0;34m\u001b[0m\u001b[0m\n\u001b[0m\u001b[1;32m      8\u001b[0m \u001b[0mprint\u001b[0m\u001b[0;34m(\u001b[0m\u001b[0mvisitor\u001b[0m\u001b[0;34m)\u001b[0m\u001b[0;34m\u001b[0m\u001b[0m\n\u001b[1;32m      9\u001b[0m \u001b[0mTotal_income\u001b[0m \u001b[0;34m=\u001b[0m \u001b[0mAd_revenue\u001b[0m\u001b[0;34m*\u001b[0m\u001b[0mvisitor\u001b[0m \u001b[0;34m+\u001b[0m \u001b[0mSubscription_fee\u001b[0m\u001b[0;34m*\u001b[0m\u001b[0mSubscripe_ratio\u001b[0m\u001b[0;34m*\u001b[0m\u001b[0mvisitor\u001b[0m\u001b[0;34m\u001b[0m\u001b[0m\n",
      "\u001b[0;31mNameError\u001b[0m: name 'raw_input' is not defined"
     ]
    }
   ],
   "source": []
  },
  {
   "cell_type": "code",
   "execution_count": null,
   "metadata": {
    "collapsed": true
   },
   "outputs": [],
   "source": []
  }
 ],
 "metadata": {
  "kernelspec": {
   "display_name": "Python 3",
   "language": "python",
   "name": "python3"
  },
  "language_info": {
   "codemirror_mode": {
    "name": "ipython",
    "version": 3
   },
   "file_extension": ".py",
   "mimetype": "text/x-python",
   "name": "python",
   "nbconvert_exporter": "python",
   "pygments_lexer": "ipython3",
   "version": "3.6.2"
  }
 },
 "nbformat": 4,
 "nbformat_minor": 2
}
